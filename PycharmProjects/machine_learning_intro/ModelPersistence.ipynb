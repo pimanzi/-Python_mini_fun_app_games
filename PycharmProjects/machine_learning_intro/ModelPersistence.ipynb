{
 "cells": [
  {
   "cell_type": "code",
   "execution_count": 3,
   "id": "9a1b8a7e",
   "metadata": {},
   "outputs": [
    {
     "name": "stderr",
     "output_type": "stream",
     "text": [
      "/home/kabisa/anaconda3/lib/python3.11/site-packages/sklearn/base.py:464: UserWarning: X does not have valid feature names, but DecisionTreeClassifier was fitted with feature names\n",
      "  warnings.warn(\n"
     ]
    },
    {
     "data": {
      "text/plain": [
       "array(['HipHop'], dtype=object)"
      ]
     },
     "execution_count": 3,
     "metadata": {},
     "output_type": "execute_result"
    }
   ],
   "source": [
    "import pandas as pd\n",
    "from sklearn.tree import DecisionTreeClassifier\n",
    "# import joblib\n",
    "music_data=pd.read_csv(\"/home/kabisa/Desktop/music.csv\")\n",
    "X=music_data.drop(columns=[\"genre\"])\n",
    "y=music_data[\"genre\"]\n",
    "feature_names= X.columns.tolist()\n",
    "model=DecisionTreeClassifier()\n",
    "model.fit(X,y)\n",
    "# this is for saving your model after training it so that next time you won't need to retrain it\n",
    "# joblib.dump(model, \"music_recommender.joblib\")\n",
    "# model= joblib.load(\"music_recommender.joblib\")\n",
    "predictions= model.predict([[21,1]])\n",
    "predictions\n"
   ]
  },
  {
   "cell_type": "code",
   "execution_count": null,
   "id": "b7fc8ce9",
   "metadata": {},
   "outputs": [],
   "source": []
  }
 ],
 "metadata": {
  "kernelspec": {
   "display_name": "Python 3 (ipykernel)",
   "language": "python",
   "name": "python3"
  },
  "language_info": {
   "codemirror_mode": {
    "name": "ipython",
    "version": 3
   },
   "file_extension": ".py",
   "mimetype": "text/x-python",
   "name": "python",
   "nbconvert_exporter": "python",
   "pygments_lexer": "ipython3",
   "version": "3.11.5"
  }
 },
 "nbformat": 4,
 "nbformat_minor": 5
}
